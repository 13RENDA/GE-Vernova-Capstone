{
  "nbformat": 4,
  "nbformat_minor": 0,
  "metadata": {
    "colab": {
      "provenance": [],
      "authorship_tag": "ABX9TyNg/LIHTTNoA2H7Mpdd8ZPT",
      "include_colab_link": true
    },
    "kernelspec": {
      "name": "python3",
      "display_name": "Python 3"
    },
    "language_info": {
      "name": "python"
    }
  },
  "cells": [
    {
      "cell_type": "markdown",
      "metadata": {
        "id": "view-in-github",
        "colab_type": "text"
      },
      "source": [
        "<a href=\"https://colab.research.google.com/github/13RENDA/GE-Vernova-Capstone/blob/main/Model_training.ipynb\" target=\"_parent\"><img src=\"https://colab.research.google.com/assets/colab-badge.svg\" alt=\"Open In Colab\"/></a>"
      ]
    },
    {
      "cell_type": "markdown",
      "source": [
        "## Training\n",
        "#### Author: Kyle"
      ],
      "metadata": {
        "id": "yBYvgOUv1b_p"
      }
    },
    {
      "cell_type": "code",
      "execution_count": null,
      "metadata": {
        "id": "54MIBIfq0jeY"
      },
      "outputs": [],
      "source": [
        "import pandas as pd\n",
        "import seaborn as sns\n",
        "import matplotlib.pyplot as plt\n",
        "import numpy as np\n",
        "from sklearn.model_selection import train_test_split\n",
        "from sklearn.linear_model import *\n",
        "from sklearn.metrics import r2_score\n",
        "from sklearn.preprocessing import StandardScaler\n",
        "import warnings\n",
        "from sklearn.linear_model import LinearRegression, Ridge, Lasso, ElasticNet\n",
        "from sklearn.svm import SVR\n",
        "from sklearn.tree import DecisionTreeRegressor\n",
        "from sklearn.ensemble import RandomForestRegressor, GradientBoostingRegressor, AdaBoostRegressor\n",
        "from xgboost import XGBRegressor\n",
        "from lightgbm import LGBMRegressor\n",
        "from sklearn.metrics import r2_score, mean_squared_error, mean_absolute_error\n",
        "\n",
        "from google.colab import drive\n",
        "drive.mount('/content/drive')\n",
        "\n",
        "df=pd.read_csv(\"/content/drive/MyDrive/Broward_OpenWeather.csv\")\n",
        "df_1=pd.read_excel(\"/content/drive/MyDrive/Capstone GE/Data_2.7/Broward.xlsx\")"
      ]
    },
    {
      "cell_type": "code",
      "source": [
        "y = df_set['% Power Outage']\n",
        "x = df_set.drop('% Power Outage',axis=1)\n",
        "x_train, x_test, y_train, y_test = train_test_split(x, y, test_size=0.3, random_state=42)\n",
        "\n",
        "warnings.filterwarnings('ignore')\n",
        "\n",
        "sc = StandardScaler()\n",
        "x_train_scaled = sc.fit_transform(x_train)\n",
        "x_test_scaled  = sc.transform(x_test)\n"
      ],
      "metadata": {
        "id": "17avUQvp12Ei"
      },
      "execution_count": null,
      "outputs": []
    },
    {
      "cell_type": "code",
      "source": [
        "models = {\n",
        "    \"Linear Regression\": LinearRegression(),\n",
        "    \"Ridge Regression\": Ridge(),\n",
        "    \"Lasso Regression\": Lasso(),\n",
        "    \"ElasticNet Regression\": ElasticNet(),\n",
        "    \"SVR\": SVR(),\n",
        "    \"Decision Tree Regression\": DecisionTreeRegressor(),\n",
        "    \"Random Forest Regression\": RandomForestRegressor(),\n",
        "    \"Gradient Boosting Regression\": GradientBoostingRegressor(),\n",
        "    \"AdaBoost Regression\": AdaBoostRegressor(),\n",
        "    \"XGBoost Regression\": XGBRegressor(),\n",
        "    \"LightGBM Regression\": LGBMRegressor()\n",
        "}"
      ],
      "metadata": {
        "id": "I6r5EkUs2O72"
      },
      "execution_count": null,
      "outputs": []
    },
    {
      "cell_type": "code",
      "source": [
        "for name, model in models.items():\n",
        "    model.fit(x_train_scaled, y_train)\n",
        "    predictions = model.predict(x_test_scaled)\n",
        "    r2 = r2_score(y_test, predictions)\n",
        "#     mse = mean_squared_error(y_test, predictions)\n",
        "#     mae = mean_absolute_error(y_test, predictions)\n",
        "    print(f\"{name} Performance:\")\n",
        "    print(\"R2 Score:\", r2)\n",
        "#     print(\"Mean Squared Error:\", mse)\n",
        "#     print(\"Mean Absolute Error:\", mae)\n",
        "    print()"
      ],
      "metadata": {
        "id": "6PO-6c4p2TWM"
      },
      "execution_count": null,
      "outputs": []
    },
    {
      "cell_type": "code",
      "source": [
        "corr_matrix = df_set.corr(method='spearman')\n",
        "\n",
        "plt.figure(figsize=(20, 10))\n",
        "sns.heatmap(corr_matrix, annot=True, cmap='RdYlBu', vmin=-1, vmax=1, annot_kws={\"size\": 6, \"ha\": 'center'}, fmt='.2f')\n",
        "plt.title('correlation')\n",
        "\n",
        "plt.xticks(rotation=90)\n",
        "plt.yticks(rotation=0)"
      ],
      "metadata": {
        "id": "PGeivHXu2Ve8"
      },
      "execution_count": null,
      "outputs": []
    },
    {
      "cell_type": "code",
      "source": [
        "import seaborn as sns\n",
        "\n",
        "plt.figure(figsize=(16,10 ))\n",
        "sns.boxplot(data=df_set)\n",
        "plt.title('Boxplot of Features')\n",
        "plt.xticks(rotation=45)\n",
        "plt.show()"
      ],
      "metadata": {
        "id": "SfbSbVPF2XmB"
      },
      "execution_count": null,
      "outputs": []
    },
    {
      "cell_type": "markdown",
      "source": [
        "## Training\n",
        "#### Author: Sreeram"
      ],
      "metadata": {
        "id": "xOofj3X12Z1P"
      }
    },
    {
      "cell_type": "code",
      "source": [
        "# Linear Regression\n",
        "import pandas as pd\n",
        "from sklearn.model_selection import train_test_split\n",
        "from sklearn.linear_model import LinearRegression\n",
        "from sklearn.metrics import mean_squared_error, r2_score\n",
        "\n",
        "df.dropna(inplace=True)\n",
        "\n",
        "X = df.drop(columns=['% Power Outage','RecordDateTime'])  # Features\n",
        "y = df['% Power Outage']  # Target variable\n",
        "\n",
        "X_train, X_test, y_train, y_test = train_test_split(X, y, test_size=0.2, random_state=42)\n",
        "model = LinearRegression()\n",
        "model.fit(X_train, y_train)\n",
        "y_pred = model.predict(X_test)\n",
        "\n",
        "mse = mean_squared_error(y_test, y_pred)\n",
        "r2 = r2_score(y_test, y_pred)\n",
        "\n",
        "print(\"Mean Squared Error:\", mse)\n",
        "print(\"R^2 Score:\", r2)"
      ],
      "metadata": {
        "id": "9UBSUkay2eLC"
      },
      "execution_count": null,
      "outputs": []
    },
    {
      "cell_type": "code",
      "source": [
        "# Random Forest\n",
        "\n",
        "import pandas as pd\n",
        "from sklearn.model_selection import train_test_split\n",
        "from sklearn.ensemble import RandomForestRegressor\n",
        "from sklearn.metrics import mean_squared_error, r2_score\n",
        "\n",
        "df.dropna(inplace=True)\n",
        "\n",
        "X = df.drop(columns=['% Power Outage','RecordDateTime'])\n",
        "y = df['% Power Outage']\n",
        "\n",
        "X_train, X_test, y_train, y_test = train_test_split(X, y, test_size=0.2, random_state=42)\n",
        "\n",
        "rf_model = RandomForestRegressor(random_state=42)\n",
        "\n",
        "rf_model.fit(X_train, y_train)\n",
        "\n",
        "y_pred = rf_model.predict(X_test)\n",
        "\n",
        "mse = mean_squared_error(y_test, y_pred)\n",
        "r2 = r2_score(y_test, y_pred)\n",
        "\n",
        "print(\"Mean Squared Error:\", mse)\n",
        "print(\"R^2 Score:\", r2)"
      ],
      "metadata": {
        "id": "PfWAkaQ528W4"
      },
      "execution_count": null,
      "outputs": []
    },
    {
      "cell_type": "code",
      "source": [
        "# Scaled Random Forest\n",
        "\n",
        "from sklearn.preprocessing import StandardScaler\n",
        "\n",
        "scaler = StandardScaler()\n",
        "X_train_scaled = scaler.fit_transform(X_train)\n",
        "X_test_scaled = scaler.transform(X_test)\n",
        "\n",
        "model = RandomForestRegressor(random_state=42)\n",
        "model.fit(X_train_scaled, y_train)\n",
        "\n",
        "y_pred = model.predict(X_test_scaled)\n",
        "mse = mean_squared_error(y_test, y_pred)\n",
        "r2 = r2_score(y_test, y_pred)\n",
        "\n",
        "print(f\"Mean Squared Error: {mse}\")\n",
        "print(f\"R^2 Score: {r2}\")"
      ],
      "metadata": {
        "id": "ylbsULGE2-zS"
      },
      "execution_count": null,
      "outputs": []
    },
    {
      "cell_type": "code",
      "source": [
        "df1.dropna(inplace=True)\n",
        "\n",
        "X = df1.drop(columns=['% Power Outage','RecordDateTime'])  # Features\n",
        "y = df1['% Power Outage']  # Target variable\n",
        "\n",
        "X_train, X_test, y_train, y_test = train_test_split(X, y, test_size=0.2, random_state=42)\n",
        "model = LinearRegression()\n",
        "model.fit(X_train, y_train)\n",
        "y_pred = model.predict(X_test)\n",
        "\n",
        "mse = mean_squared_error(y_test, y_pred)\n",
        "r2 = r2_score(y_test, y_pred)\n",
        "\n",
        "print(\"Mean Squared Error:\", mse)\n",
        "print(\"R^2 Score:\", r2)"
      ],
      "metadata": {
        "id": "DsGPp_vf3B2F"
      },
      "execution_count": null,
      "outputs": []
    },
    {
      "cell_type": "code",
      "source": [
        "# Scaled Random Forest\n",
        "\n",
        "from sklearn.preprocessing import StandardScaler\n",
        "\n",
        "df1.dropna(inplace=True)\n",
        "X = df1.drop(columns=['% Power Outage','RecordDateTime'])  # Features\n",
        "y = df1['% Power Outage']  # Target variable\n",
        "\n",
        "scaler = StandardScaler()\n",
        "X_train_scaled = scaler.fit_transform(X_train)\n",
        "X_test_scaled = scaler.transform(X_test)\n",
        "\n",
        "X_train, X_test, y_train, y_test = train_test_split(X, y, test_size=0.2, random_state=42)\n",
        "rf_model = RandomForestRegressor(random_state=42)\n",
        "model.fit(X_train_scaled, y_train)\n",
        "y_pred = model.predict(X_test_scaled)\n",
        "mse = mean_squared_error(y_test, y_pred)\n",
        "r2 = r2_score(y_test, y_pred)\n",
        "\n",
        "print(f\"Mean Squared Error: {mse}\")\n",
        "print(f\"R^2 Score: {r2}\")"
      ],
      "metadata": {
        "id": "h7BP1Es13F5S"
      },
      "execution_count": null,
      "outputs": []
    },
    {
      "cell_type": "code",
      "source": [
        "df1 = pd.read_excel('SMOTE_Broward.xlsx')\n",
        "\n",
        "#combined_df = pd.concat([df1, df2, df3], ignore_index=True)\n",
        "combined_df = df1\n",
        "combined_df.drop(columns=['Classification', 'RecordDateTime'], inplace=True)\n",
        "combined_df.dropna(inplace=True)\n",
        "\n",
        "X = combined_df.drop(columns=['% Power Outage'])\n",
        "y = combined_df['% Power Outage']\n",
        "\n",
        "from sklearn.model_selection import train_test_split\n",
        "X_train, X_test, y_train, y_test = train_test_split(X, y, test_size=0.33, shuffle = False, random_state=42)\n",
        "\n",
        "from sklearn.ensemble import RandomForestRegressor\n",
        "model = RandomForestRegressor(random_state=42)\n",
        "model.fit(X_train, y_train)\n",
        "\n",
        "from sklearn.metrics import mean_squared_error, r2_score\n",
        "y_pred = model.predict(X_test)\n",
        "mse = mean_squared_error(y_test, y_pred)\n",
        "r2 = r2_score(y_test, y_pred)\n",
        "\n",
        "print(f\"Mean Squared Error: {mse}\")\n",
        "print(f\"R^2 Score: {r2}\")"
      ],
      "metadata": {
        "id": "qDSKAymg3J_h"
      },
      "execution_count": null,
      "outputs": []
    },
    {
      "cell_type": "code",
      "source": [
        "test_data = pd.read_excel('/content/Orange.xlsx')\n",
        "test_data.drop(columns=['Classification', 'RecordDateTime'], inplace=True)\n",
        "\n",
        "X_test_new = test_data.drop(columns=['% Power Outage'])\n",
        "y_test_new = test_data['% Power Outage']\n",
        "\n",
        "y_pred_new = model.predict(X_test_new)\n",
        "\n",
        "mse_new = mean_squared_error(y_test_new, y_pred_new)\n",
        "r2_new = r2_score(y_test_new, y_pred_new)\n",
        "\n",
        "print(f\"Mean Squared Error on new data: {mse_new}\")\n",
        "print(f\"R^2 Score on new data: {r2_new}\")"
      ],
      "metadata": {
        "id": "GJJWeYKl3PTA"
      },
      "execution_count": null,
      "outputs": []
    },
    {
      "cell_type": "code",
      "source": [
        "results_df = pd.DataFrame({'Actual': y_test_new, 'Predicted': y_pred_new})\n",
        "print(results_df)"
      ],
      "metadata": {
        "id": "0mH858iA3RXY"
      },
      "execution_count": null,
      "outputs": []
    },
    {
      "cell_type": "markdown",
      "source": [
        "### Support Vector Machine (Regressor)"
      ],
      "metadata": {
        "id": "scJqpcu3DfGo"
      }
    },
    {
      "cell_type": "code",
      "source": [
        "import pandas as pd\n",
        "from sklearn.model_selection import train_test_split\n",
        "from sklearn.svm import SVR\n",
        "from sklearn.metrics import mean_squared_error, r2_score\n",
        "from sklearn.preprocessing import StandardScaler\n",
        "\n",
        "combined_df = pd.concat([df1, df2, df3], ignore_index=True)\n",
        "combined_df.drop(columns=['Classification', 'RecordDateTime'], inplace=True)\n",
        "combined_df.dropna(inplace=True)\n",
        "\n",
        "X = combined_df.drop(columns=['% Power Outage'])\n",
        "y = combined_df['% Power Outage']\n",
        "\n",
        "X_train, X_test, y_train, y_test = train_test_split(X, y, test_size=0.2, random_state=42)\n",
        "\n",
        "scaler = StandardScaler()\n",
        "X_train_scaled = scaler.fit_transform(X_train)\n",
        "X_test_scaled = scaler.transform(X_test)\n",
        "\n",
        "model = SVR(kernel='rbf', C=1.0, epsilon=0.1)\n",
        "model.fit(X_train_scaled, y_train)\n",
        "\n",
        "y_pred = model.predict(X_test_scaled)\n",
        "mse = mean_squared_error(y_test, y_pred)\n",
        "r2 = r2_score(y_test, y_pred)\n",
        "\n",
        "print(f\"Mean Squared Error: {mse}\")\n",
        "print(f\"R^2 Score: {r2}\")"
      ],
      "metadata": {
        "colab": {
          "base_uri": "https://localhost:8080/"
        },
        "id": "yphWNY9ZAQEn",
        "outputId": "ca4370b1-cfc0-4d28-bef4-c8ec3d7b2459"
      },
      "execution_count": null,
      "outputs": [
        {
          "output_type": "stream",
          "name": "stdout",
          "text": [
            "Mean Squared Error: 0.014360276698856495\n",
            "R^2 Score: -0.2710956151606079\n"
          ]
        }
      ]
    },
    {
      "cell_type": "code",
      "source": [
        "test_data = pd.read_excel('/content/Orange.xlsx')\n",
        "test_data.drop(columns=['Classification', 'RecordDateTime'], inplace=True)\n",
        "\n",
        "X_test_new = test_data.drop(columns=['% Power Outage'])\n",
        "X_test_scaled_new = scaler.transform(X_test_new)\n",
        "y_pred_new = model.predict(X_test_scaled_new)\n",
        "\n",
        "mse_new = mean_squared_error(y_test_new, y_pred_new)\n",
        "r2_new = r2_score(y_test_new, y_pred_new)\n",
        "\n",
        "print(f\"Mean Squared Error on new data: {mse_new}\")\n",
        "print(f\"R^2 Score on new data: {r2_new}\")"
      ],
      "metadata": {
        "colab": {
          "base_uri": "https://localhost:8080/"
        },
        "id": "ZfcVdwyIBKib",
        "outputId": "464124dc-f925-46c7-d6f2-3c3ed45790ad"
      },
      "execution_count": null,
      "outputs": [
        {
          "output_type": "stream",
          "name": "stdout",
          "text": [
            "Mean Squared Error on new data: 1.1166762425684584\n",
            "R^2 Score on new data: 0.005381497553619385\n"
          ]
        }
      ]
    },
    {
      "cell_type": "code",
      "source": [
        "results_df = pd.DataFrame({'Actual': y_test_new, 'Predicted': y_pred_new})\n",
        "print(results_df)"
      ],
      "metadata": {
        "colab": {
          "base_uri": "https://localhost:8080/"
        },
        "id": "bzObMGCBBS3Z",
        "outputId": "aa147c4b-584a-4d83-e6f9-b68162e499bb"
      },
      "execution_count": null,
      "outputs": [
        {
          "output_type": "stream",
          "name": "stdout",
          "text": [
            "         Actual  Predicted\n",
            "0      0.000987   0.100514\n",
            "1      0.000658   0.102138\n",
            "2      0.000329   0.102244\n",
            "3      0.000000   0.095044\n",
            "4      0.016954   0.099930\n",
            "...         ...        ...\n",
            "26248  0.001239   0.092607\n",
            "26249  0.002013   0.091507\n",
            "26250  0.006193   0.087877\n",
            "26251  0.001239   0.083670\n",
            "26252  0.000310   0.094037\n",
            "\n",
            "[26253 rows x 2 columns]\n"
          ]
        }
      ]
    },
    {
      "cell_type": "code",
      "source": [
        "import pandas as pd\n",
        "from sklearn.model_selection import train_test_split\n",
        "from sklearn.svm import SVR\n",
        "from sklearn.metrics import mean_squared_error, r2_score\n",
        "from sklearn.preprocessing import RobustScaler, OneHotEncoder\n",
        "from sklearn.compose import ColumnTransformer\n",
        "from sklearn.pipeline import Pipeline\n",
        "\n",
        "combined_df = pd.concat([df1, df2, df3], ignore_index=True)\n",
        "combined_df.drop(columns=['Classification', 'RecordDateTime'], inplace=True)\n",
        "combined_df.dropna(inplace=True)\n",
        "\n",
        "X = combined_df.drop(columns=['% Power Outage'])\n",
        "y = combined_df['% Power Outage']\n",
        "\n",
        "X_train, X_test, y_train, y_test = train_test_split(X, y, test_size=0.2, random_state=42)\n",
        "\n",
        "numeric_features = X.select_dtypes(include=['int', 'float']).columns\n",
        "categorical_features = X.select_dtypes(include=['object']).columns\n",
        "\n",
        "numeric_transformer = Pipeline(steps=[('scaler', RobustScaler())])\n",
        "categorical_transformer = Pipeline(steps=[('onehot', OneHotEncoder(handle_unknown='ignore'))])\n",
        "\n",
        "preprocessor = ColumnTransformer(\n",
        "    transformers=[\n",
        "        ('num', numeric_transformer, numeric_features),\n",
        "        ('cat', categorical_transformer, categorical_features)])\n",
        "\n",
        "model = Pipeline(steps=[('preprocessor', preprocessor),\n",
        "                        ('regressor', SVR(kernel='rbf', C=1.0, epsilon=0.1))])\n",
        "\n",
        "model.fit(X_train, y_train)\n",
        "\n",
        "y_pred = model.predict(X_test)\n",
        "mse = mean_squared_error(y_test, y_pred)\n",
        "r2 = r2_score(y_test, y_pred)\n",
        "\n",
        "print(f\"Mean Squared Error: {mse}\")\n",
        "print(f\"R^2 Score: {r2}\")"
      ],
      "metadata": {
        "colab": {
          "base_uri": "https://localhost:8080/"
        },
        "id": "0EnKht80DeSZ",
        "outputId": "d31f6e62-f2b3-4442-fe2a-ef9b7749edb0"
      },
      "execution_count": null,
      "outputs": [
        {
          "output_type": "stream",
          "name": "stdout",
          "text": [
            "Mean Squared Error: 0.014726502476881046\n",
            "R^2 Score: -0.3035119808315325\n"
          ]
        }
      ]
    },
    {
      "cell_type": "code",
      "source": [
        "import pandas as pd\n",
        "from sklearn.metrics import mean_squared_error, r2_score\n",
        "\n",
        "test_data = pd.read_excel('/content/Orange.xlsx')\n",
        "\n",
        "test_data.drop(columns=['Classification', 'RecordDateTime'], inplace=True)\n",
        "\n",
        "X_test_new = test_data\n",
        "\n",
        "y_pred_new = model.predict(X_test_new)\n",
        "\n",
        "mse_new = mean_squared_error(y_test_new, y_pred_new)\n",
        "r2_new = r2_score(y_test_new, y_pred_new)\n",
        "\n",
        "print(f\"Mean Squared Error on new data: {mse_new}\")\n",
        "print(f\"R^2 Score on new data: {r2_new}\")"
      ],
      "metadata": {
        "colab": {
          "base_uri": "https://localhost:8080/"
        },
        "id": "RDnUCC7-D33a",
        "outputId": "b874fc24-f343-4208-85a6-1339087cbd42"
      },
      "execution_count": null,
      "outputs": [
        {
          "output_type": "stream",
          "name": "stdout",
          "text": [
            "Mean Squared Error on new data: 1.1174156519856417\n",
            "R^2 Score on new data: 0.004722908914246315\n"
          ]
        }
      ]
    },
    {
      "cell_type": "markdown",
      "source": [
        "### Result\n",
        "\n",
        "| Model                                        | Mean Squared Error (Val Data) | R^2 Score (Val Data) | Mean Squared Error (Test Data) | R^2 Score (Test Data) |\n",
        "|----------------------------------------------|---------------------|------------|-------------------------------|-----------------------|\n",
        "| Random Forest Regressor                      | 0.008636774718338897| 0.235518   | 1.1026947770552067           | 0.017834725947563523  |\n",
        "| Random Forest Regressor with StandardScalar  | 0.008638702123532231| 0.235347   | 1.1032414289652068           | 0.01734782555212455   |\n",
        "| Gradient Boosting Regressor                  | 0.008367395809310969| 0.259362   | 1.0850713509165413           | 0.03353183227598011   |\n",
        "| Support Vector Regressor                     | 0.014360276698856495| -0.271096  | 1.1166762425684584           | 0.005381497553619385  |\n",
        "| Support Vector Regressor with one-hot encoding| 0.014726502476881046| -0.303512  | 1.1174156519856417           | 0.004722908914246315  |\n"
      ],
      "metadata": {
        "id": "dB91qJJyyQwy"
      }
    },
    {
      "cell_type": "code",
      "source": [],
      "metadata": {
        "id": "zUT3M3mA4RMr"
      },
      "execution_count": null,
      "outputs": []
    }
  ]
}